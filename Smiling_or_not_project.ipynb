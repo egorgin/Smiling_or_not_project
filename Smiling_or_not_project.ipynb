{
 "cells": [
  {
   "cell_type": "code",
   "execution_count": 13,
   "id": "753b79cd",
   "metadata": {},
   "outputs": [],
   "source": [
    "import glob\n",
    "from PIL import Image\n",
    "import numpy as np\n",
    "import pandas as pd\n",
    "import tensorflow as tf\n",
    "import tensorflow.keras as keras\n",
    "from tensorflow.keras.models import Sequential\n",
    "from keras_preprocessing.image import ImageDataGenerator\n",
    "from keras.layers import Dense, Dropout, Flatten\n",
    "from keras.layers.convolutional import Conv2D, MaxPooling2D\n",
    "import matplotlib.pyplot as plt\n",
    "from tensorflow.keras import callbacks"
   ]
  },
  {
   "cell_type": "code",
   "execution_count": 14,
   "id": "c8c0af54",
   "metadata": {},
   "outputs": [],
   "source": [
    "training_datagenerator = ImageDataGenerator(\n",
    "        rescale=1./255,\n",
    "        validation_split=0.2\n",
    "    )\n",
    "test_datagenerator = ImageDataGenerator(\n",
    "        rescale=1./255\n",
    "    )"
   ]
  },
  {
   "cell_type": "code",
   "execution_count": 15,
   "id": "d37fa52f",
   "metadata": {},
   "outputs": [
    {
     "name": "stdout",
     "output_type": "stream",
     "text": [
      "Found 963 images belonging to 2 classes.\n",
      "Found 240 images belonging to 2 classes.\n",
      "Found 0 images belonging to 0 classes.\n"
     ]
    }
   ],
   "source": [
    "train_ds=training_datagenerator.flow_from_directory(\n",
    "    r'C:\\Users\\ella.gorgin\\Dropbox\\Data_Analytics\\Data_sets\\Smiling_or_not',\n",
    "    classes=[\"smile\",\"non_smile\"],\n",
    "    color_mode=\"rgb\",\n",
    "    batch_size=16,\n",
    "    target_size=(64,64), \n",
    "    class_mode=\"categorical\",\n",
    "    subset=\"training\"\n",
    ")\n",
    "\n",
    "valid_ds=training_datagenerator.flow_from_directory(\n",
    "    r'C:\\Users\\ella.gorgin\\Dropbox\\Data_Analytics\\Data_sets\\Smiling_or_not',\n",
    "    classes=[\"smile\",\"non_smile\"],\n",
    "    color_mode=\"rgb\",\n",
    "    batch_size=16,\n",
    "    target_size=(64,64),\n",
    "    class_mode=\"categorical\",\n",
    "    subset=\"validation\"\n",
    ")\n",
    "test_ds = test_datagenerator.flow_from_directory(\n",
    "    r'C:\\Users\\ella.gorgin\\Dropbox\\Data_Analytics\\Data_sets\\Smiling_or_not\\test',\n",
    "    color_mode=\"rgb\",\n",
    "    target_size=(64,64)\n",
    ")"
   ]
  },
  {
   "cell_type": "code",
   "execution_count": 16,
   "id": "dd2fe83f",
   "metadata": {},
   "outputs": [],
   "source": [
    "model = Sequential()\n",
    "model.add(Conv2D(128,(3,3), input_shape=(64,64,3), padding=\"same\", activation=\"relu\"))\n",
    "model.add(MaxPooling2D(pool_size=(2,2)))\n",
    "model.add(Conv2D(64,(3,3), padding=\"same\", activation=\"relu\"))\n",
    "model.add(MaxPooling2D(pool_size=(2,2)))\n",
    "model.add(Flatten())\n",
    "model.add(Dense(64, activation=\"relu\"))\n",
    "model.add(Dropout(rate=0.2))\n",
    "model.add(Dense(2, activation=\"softmax\"))\n",
    "model.compile(\n",
    "    optimizer='adam',\n",
    "    loss='binary_crossentropy',\n",
    "    metrics=['accuracy']\n",
    ")\n"
   ]
  },
  {
   "cell_type": "code",
   "execution_count": 17,
   "id": "b5d8d4d6",
   "metadata": {},
   "outputs": [],
   "source": [
    "callback_list=[\n",
    "    callbacks.EarlyStopping(monitor=\"val_accuracy\",patience=10,restore_best_weights=True),\n",
    "    callbacks.ReduceLROnPlateau(factor=0.8,monitor=\"val_accuracy\",patience=3)\n",
    "]"
   ]
  },
  {
   "cell_type": "code",
   "execution_count": 18,
   "id": "46652f76",
   "metadata": {},
   "outputs": [
    {
     "name": "stdout",
     "output_type": "stream",
     "text": [
      "Epoch 1/50\n",
      "61/61 [==============================] - 16s 230ms/step - loss: 0.6905 - accuracy: 0.5431 - val_loss: 0.6792 - val_accuracy: 0.6583 - lr: 0.0010\n",
      "Epoch 2/50\n",
      "61/61 [==============================] - 14s 230ms/step - loss: 0.5767 - accuracy: 0.7207 - val_loss: 0.5371 - val_accuracy: 0.7833 - lr: 0.0010\n",
      "Epoch 3/50\n",
      "61/61 [==============================] - 15s 244ms/step - loss: 0.3955 - accuracy: 0.8370 - val_loss: 0.4484 - val_accuracy: 0.7750 - lr: 0.0010\n",
      "Epoch 4/50\n",
      "61/61 [==============================] - 14s 227ms/step - loss: 0.3130 - accuracy: 0.8723 - val_loss: 0.3126 - val_accuracy: 0.8708 - lr: 0.0010\n",
      "Epoch 5/50\n",
      "61/61 [==============================] - 12s 200ms/step - loss: 0.2271 - accuracy: 0.9117 - val_loss: 0.2623 - val_accuracy: 0.9000 - lr: 0.0010\n",
      "Epoch 6/50\n",
      "61/61 [==============================] - 13s 220ms/step - loss: 0.2034 - accuracy: 0.9221 - val_loss: 0.2143 - val_accuracy: 0.9208 - lr: 0.0010\n",
      "Epoch 7/50\n",
      "61/61 [==============================] - 14s 224ms/step - loss: 0.1768 - accuracy: 0.9398 - val_loss: 0.3015 - val_accuracy: 0.8958 - lr: 0.0010\n",
      "Epoch 8/50\n",
      "61/61 [==============================] - 13s 217ms/step - loss: 0.1970 - accuracy: 0.9242 - val_loss: 0.1855 - val_accuracy: 0.9333 - lr: 0.0010\n",
      "Epoch 9/50\n",
      "61/61 [==============================] - 12s 204ms/step - loss: 0.1568 - accuracy: 0.9398 - val_loss: 0.1982 - val_accuracy: 0.9292 - lr: 0.0010\n",
      "Epoch 10/50\n",
      "61/61 [==============================] - 13s 210ms/step - loss: 0.1435 - accuracy: 0.9522 - val_loss: 0.1629 - val_accuracy: 0.9500 - lr: 0.0010\n",
      "Epoch 11/50\n",
      "61/61 [==============================] - 13s 217ms/step - loss: 0.1107 - accuracy: 0.9605 - val_loss: 0.1800 - val_accuracy: 0.9500 - lr: 0.0010\n",
      "Epoch 12/50\n",
      "61/61 [==============================] - 14s 222ms/step - loss: 0.0885 - accuracy: 0.9709 - val_loss: 0.1643 - val_accuracy: 0.9375 - lr: 0.0010\n",
      "Epoch 13/50\n",
      "61/61 [==============================] - 13s 219ms/step - loss: 0.0846 - accuracy: 0.9637 - val_loss: 0.1690 - val_accuracy: 0.9500 - lr: 0.0010\n",
      "Epoch 14/50\n",
      "61/61 [==============================] - 14s 228ms/step - loss: 0.0599 - accuracy: 0.9803 - val_loss: 0.2415 - val_accuracy: 0.9458 - lr: 8.0000e-04\n",
      "Epoch 15/50\n",
      "61/61 [==============================] - 13s 217ms/step - loss: 0.0541 - accuracy: 0.9803 - val_loss: 0.2089 - val_accuracy: 0.9417 - lr: 8.0000e-04\n",
      "Epoch 16/50\n",
      "61/61 [==============================] - 13s 217ms/step - loss: 0.0512 - accuracy: 0.9823 - val_loss: 0.2007 - val_accuracy: 0.9458 - lr: 8.0000e-04\n",
      "Epoch 17/50\n",
      "61/61 [==============================] - 15s 238ms/step - loss: 0.0486 - accuracy: 0.9834 - val_loss: 0.2138 - val_accuracy: 0.9375 - lr: 6.4000e-04\n",
      "Epoch 18/50\n",
      "61/61 [==============================] - 13s 209ms/step - loss: 0.0287 - accuracy: 0.9917 - val_loss: 0.2471 - val_accuracy: 0.9500 - lr: 6.4000e-04\n",
      "Epoch 19/50\n",
      "61/61 [==============================] - 14s 224ms/step - loss: 0.0243 - accuracy: 0.9927 - val_loss: 0.2248 - val_accuracy: 0.9375 - lr: 6.4000e-04\n",
      "Epoch 20/50\n",
      "61/61 [==============================] - 13s 217ms/step - loss: 0.0217 - accuracy: 0.9917 - val_loss: 0.2272 - val_accuracy: 0.9458 - lr: 5.1200e-04\n"
     ]
    },
    {
     "data": {
      "text/plain": [
       "<keras.callbacks.History at 0x21bb7ea82b0>"
      ]
     },
     "execution_count": 18,
     "metadata": {},
     "output_type": "execute_result"
    }
   ],
   "source": [
    "model.fit(train_ds,validation_data=valid_ds,epochs=50,verbose=1,callbacks=callback_list)\n"
   ]
  },
  {
   "cell_type": "code",
   "execution_count": 19,
   "id": "34cfcf43",
   "metadata": {},
   "outputs": [
    {
     "name": "stdout",
     "output_type": "stream",
     "text": [
      "15/15 [==============================] - 1s 50ms/step - loss: 0.1629 - accuracy: 0.9500\n"
     ]
    },
    {
     "data": {
      "text/plain": [
       "[0.16288861632347107, 0.949999988079071]"
      ]
     },
     "execution_count": 19,
     "metadata": {},
     "output_type": "execute_result"
    }
   ],
   "source": [
    "model.evaluate(valid_ds)"
   ]
  }
 ],
 "metadata": {
  "kernelspec": {
   "display_name": "Python 3 (ipykernel)",
   "language": "python",
   "name": "python3"
  },
  "language_info": {
   "codemirror_mode": {
    "name": "ipython",
    "version": 3
   },
   "file_extension": ".py",
   "mimetype": "text/x-python",
   "name": "python",
   "nbconvert_exporter": "python",
   "pygments_lexer": "ipython3",
   "version": "3.9.7"
  }
 },
 "nbformat": 4,
 "nbformat_minor": 5
}
